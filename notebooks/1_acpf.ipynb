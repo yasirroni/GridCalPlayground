{
 "cells": [
  {
   "cell_type": "code",
   "execution_count": 2,
   "metadata": {},
   "outputs": [
    {
     "name": "stdout",
     "output_type": "stream",
     "text": [
      "Bentayga is not available\n",
      "Newton native unavailable\n"
     ]
    }
   ],
   "source": [
    "import numpy as np\n",
    "\n",
    "from GridCal.Engine import Bus, Load, Line, Generator, MultiCircuit\n",
    "from GridCal.Engine import PowerFlowOptions, PowerFlowDriver, SolverType\n",
    "\n",
    "np.set_printoptions(precision=4)"
   ]
  },
  {
   "cell_type": "code",
   "execution_count": 3,
   "metadata": {},
   "outputs": [],
   "source": [
    "grid = MultiCircuit()\n",
    "\n",
    "# Add the buses and the generators and loads attached\n",
    "bus1 = Bus('Bus 1', vnom=20)\n",
    "# bus1.is_slack = True\n",
    "grid.add_bus(bus1)\n",
    "\n",
    "gen1 = Generator('Slack Generator', voltage_module=1.0)\n",
    "grid.add_generator(bus1, gen1)\n",
    "\n",
    "bus2 = Bus('Bus 2', vnom=20)\n",
    "grid.add_bus(bus2)\n",
    "grid.add_load(bus2, Load('load 2', P=40, Q=20))\n",
    "\n",
    "bus3 = Bus('Bus 3', vnom=20)\n",
    "grid.add_bus(bus3)\n",
    "grid.add_load(bus3, Load('load 3', P=25, Q=15))\n",
    "\n",
    "bus4 = Bus('Bus 4', vnom=20)\n",
    "grid.add_bus(bus4)\n",
    "grid.add_load(bus4, Load('load 4', P=40, Q=20))\n",
    "\n",
    "bus5 = Bus('Bus 5', vnom=20)\n",
    "grid.add_bus(bus5)\n",
    "grid.add_load(bus5, Load('load 5', P=50, Q=20))\n",
    "\n",
    "# add branches (Lines in this case)\n",
    "grid.add_line(Line(bus1, bus2, 'line 1-2', r=0.05, x=0.11, b=0.02))\n",
    "grid.add_line(Line(bus1, bus3, 'line 1-3', r=0.05, x=0.11, b=0.02))\n",
    "grid.add_line(Line(bus1, bus5, 'line 1-5', r=0.03, x=0.08, b=0.02))\n",
    "grid.add_line(Line(bus2, bus3, 'line 2-3', r=0.04, x=0.09, b=0.02))\n",
    "grid.add_line(Line(bus2, bus5, 'line 2-5', r=0.04, x=0.09, b=0.02))\n",
    "grid.add_line(Line(bus3, bus4, 'line 3-4', r=0.06, x=0.13, b=0.03))\n",
    "grid.add_line(Line(bus4, bus5, 'line 4-5', r=0.04, x=0.09, b=0.02))"
   ]
  },
  {
   "cell_type": "code",
   "execution_count": 4,
   "metadata": {},
   "outputs": [],
   "source": [
    "options = PowerFlowOptions(SolverType.NR, verbose=False)\n",
    "power_flow = PowerFlowDriver(grid, options)\n",
    "power_flow.run()"
   ]
  },
  {
   "cell_type": "code",
   "execution_count": 5,
   "metadata": {},
   "outputs": [
    {
     "name": "stdout",
     "output_type": "stream",
     "text": [
      "\n",
      "\n",
      " \n",
      "\t|V|: [1.     0.9553 0.9548 0.9333 0.9534]\n",
      "\t|Sbranch|: [49.8051 49.6978 76.058   0.464   5.0627 19.6677 24.6214]\n",
      "\t|loading|: [4980.5128 4969.7819 7605.7981   46.4042  506.2687 1966.7722 2462.1446]\n",
      "\terr: 1.8965827353056852e-08\n",
      "\tConv: True\n"
     ]
    }
   ],
   "source": [
    "print('\\n\\n', grid.name)\n",
    "print('\\t|V|:', abs(power_flow.results.voltage))\n",
    "print('\\t|Sbranch|:', abs(power_flow.results.Sf))\n",
    "print('\\t|loading|:', abs(power_flow.results.loading) * 100)\n",
    "print('\\terr:', power_flow.results.error)\n",
    "print('\\tConv:', power_flow.results.converged)"
   ]
  },
  {
   "cell_type": "code",
   "execution_count": 6,
   "metadata": {},
   "outputs": [],
   "source": [
    "import matplotlib.pyplot as plt\n",
    "\n",
    "%matplotlib inline"
   ]
  },
  {
   "cell_type": "code",
   "execution_count": 26,
   "metadata": {},
   "outputs": [
    {
     "data": {
      "image/png": "[encoded data removed]",
      "text/plain": [
       "<Figure size 432x288 with 1 Axes>"
      ]
     },
     "metadata": {},
     "output_type": "display_data"
    }
   ],
   "source": [
    "fig = plt.figure()\n",
    "ax = fig.add_subplot(111)\n",
    "\n",
    "grid.plot_graph(ax=ax) # figure located at `fig`"
   ]
  },
  {
   "cell_type": "code",
   "execution_count": null,
   "metadata": {},
   "outputs": [],
   "source": []
  }
 ],
 "metadata": {
  "interpreter": {
   "hash": "14b7b1db339229c369b9e4a344f84f846b75f96782989b11e89d4cd32fb31880"
  },
  "kernelspec": {
   "display_name": "Python 3.7.4 64-bit",
   "language": "python",
   "name": "python3"
  },
  "language_info": {
   "codemirror_mode": {
    "name": "ipython",
    "version": 3
   },
   "file_extension": ".py",
   "mimetype": "text/x-python",
   "name": "python",
   "nbconvert_exporter": "python",
   "pygments_lexer": "ipython3",
   "version": "3.7.4"
  },
  "orig_nbformat": 4
 },
 "nbformat": 4,
 "nbformat_minor": 2
}
