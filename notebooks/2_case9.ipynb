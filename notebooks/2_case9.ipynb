{
 "cells": [
  {
   "cell_type": "markdown",
   "metadata": {},
   "source": [
    "# MATPOWER IEEE Case 9"
   ]
  },
  {
   "cell_type": "markdown",
   "metadata": {},
   "source": [
    "R.P. Schulz, A.E. Turner and D.N. Ewart, \"Long Term Power System Dynamics,\" EPRI Report 90-7-0, Palo Alto, California, 1974."
   ]
  },
  {
   "cell_type": "code",
   "execution_count": 1,
   "metadata": {},
   "outputs": [],
   "source": [
    "%load_ext autoreload\n",
    "%autoreload 2"
   ]
  },
  {
   "cell_type": "markdown",
   "metadata": {},
   "source": [
    "## AC power flow"
   ]
  },
  {
   "cell_type": "code",
   "execution_count": 2,
   "metadata": {},
   "outputs": [
    {
     "name": "stdout",
     "output_type": "stream",
     "text": [
      "Bentayga is not available\n",
      "Newton native is not available\n"
     ]
    }
   ],
   "source": [
    "import numpy as np\n",
    "\n",
    "from GridCal.Engine import Bus, Load, Line, Generator, MultiCircuit\n",
    "from GridCal.Engine import PowerFlowOptions, PowerFlowDriver, SolverType"
   ]
  },
  {
   "cell_type": "code",
   "execution_count": 3,
   "metadata": {},
   "outputs": [],
   "source": [
    "import os\n",
    "\n",
    "from matpower import path_matpower"
   ]
  },
  {
   "cell_type": "code",
   "execution_count": 4,
   "metadata": {},
   "outputs": [],
   "source": [
    "from GridCal.Engine.IO import parse_matpower_file"
   ]
  },
  {
   "cell_type": "code",
   "execution_count": 5,
   "metadata": {},
   "outputs": [],
   "source": [
    "case_name = 'case9.m'\n",
    "case_path = os.path.join(path_matpower, 'data', case_name)\n",
    "\n",
    "grid, _ = parse_matpower_file(case_path)"
   ]
  },
  {
   "cell_type": "code",
   "execution_count": 6,
   "metadata": {},
   "outputs": [],
   "source": [
    "options = PowerFlowOptions(SolverType.NR, verbose=False)\n",
    "power_flow = PowerFlowDriver(grid, options)\n",
    "power_flow.run()"
   ]
  },
  {
   "cell_type": "code",
   "execution_count": 7,
   "metadata": {},
   "outputs": [
    {
     "name": "stdout",
     "output_type": "stream",
     "text": [
      "|V|: [1.04       1.025      1.025      1.02578841 1.01265435 1.03235296 1.01588261 1.0257694  0.99563089]\n",
      "|Sbranch|: [ 76.57620336  30.72093467  60.96638094  85.69092124  24.38378354  76.65564245 163.25820057  87.02464825  56.13866969]\n",
      "|loading|: [30.63048134 12.28837387 40.64425396 28.56364041 16.25585569 30.66225698 65.30328023 34.8098593  22.45546787]\n",
      "err: 3.4213208180533117e-07\n",
      "Conv: True\n",
      "Total real losses: 4.641022915358031\n",
      "Power flow: [ 0.68885589-0.26005666j  0.29870531-0.02161134j -0.57743512+0.17037386j  0.81790513+0.17303824j  0.23515435-0.02216017j -0.74845653+0.09587239j -1.57989878-0.1923781j   0.83736138+0.13631421j -0.38056415+0.41605047j]\n"
     ]
    }
   ],
   "source": [
    "print('|V|:', abs(power_flow.results.voltage))\n",
    "print('|Sbranch|:', abs(power_flow.results.Sf))\n",
    "print('|loading|:', abs(power_flow.results.loading) * 100)\n",
    "print('err:', power_flow.results.error)\n",
    "print('Conv:', power_flow.results.converged)\n",
    "print('Total real losses:', sum(np.real(power_flow.results.losses)))\n",
    "print('Power flow:', power_flow.results.If)"
   ]
  },
  {
   "cell_type": "code",
   "execution_count": 8,
   "metadata": {},
   "outputs": [
    {
     "data": {
      "text/html": [
       "<div>\n",
       "<style scoped>\n",
       "    .dataframe tbody tr th:only-of-type {\n",
       "        vertical-align: middle;\n",
       "    }\n",
       "\n",
       "    .dataframe tbody tr th {\n",
       "        vertical-align: top;\n",
       "    }\n",
       "\n",
       "    .dataframe thead th {\n",
       "        text-align: right;\n",
       "    }\n",
       "</style>\n",
       "<table border=\"1\" class=\"dataframe\">\n",
       "  <thead>\n",
       "    <tr style=\"text-align: right;\">\n",
       "      <th></th>\n",
       "      <th>Method</th>\n",
       "      <th>Converged?</th>\n",
       "      <th>Error</th>\n",
       "      <th>Elapsed (s)</th>\n",
       "      <th>Iterations</th>\n",
       "    </tr>\n",
       "  </thead>\n",
       "  <tbody>\n",
       "    <tr>\n",
       "      <th>0</th>\n",
       "      <td>Newton Raphson</td>\n",
       "      <td>True</td>\n",
       "      <td>3.421321e-07</td>\n",
       "      <td>0.20485</td>\n",
       "      <td>3</td>\n",
       "    </tr>\n",
       "  </tbody>\n",
       "</table>\n",
       "</div>"
      ],
      "text/plain": [
       "           Method  Converged?         Error  Elapsed (s)  Iterations\n",
       "0  Newton Raphson        True  3.421321e-07      0.20485           3"
      ]
     },
     "execution_count": 8,
     "metadata": {},
     "output_type": "execute_result"
    }
   ],
   "source": [
    "power_flow.results.get_report_dataframe()"
   ]
  },
  {
   "cell_type": "code",
   "execution_count": 9,
   "metadata": {},
   "outputs": [],
   "source": [
    "import pandas as pd\n",
    "\n",
    "pd.options.display.float_format = '{:.3f}'.format"
   ]
  },
  {
   "cell_type": "code",
   "execution_count": 10,
   "metadata": {},
   "outputs": [
    {
     "data": {
      "text/html": [
       "<div>\n",
       "<style scoped>\n",
       "    .dataframe tbody tr th:only-of-type {\n",
       "        vertical-align: middle;\n",
       "    }\n",
       "\n",
       "    .dataframe tbody tr th {\n",
       "        vertical-align: top;\n",
       "    }\n",
       "\n",
       "    .dataframe thead th {\n",
       "        text-align: right;\n",
       "    }\n",
       "</style>\n",
       "<table border=\"1\" class=\"dataframe\">\n",
       "  <thead>\n",
       "    <tr style=\"text-align: right;\">\n",
       "      <th></th>\n",
       "      <th>Real power (MW)</th>\n",
       "      <th>Imag power (MVAr)</th>\n",
       "      <th>Power module (MVA)</th>\n",
       "      <th>Loading(%)</th>\n",
       "      <th>Losses (MW)</th>\n",
       "      <th>Losses (MVAr)</th>\n",
       "      <th>Losses (MVA)</th>\n",
       "      <th>Tap module</th>\n",
       "    </tr>\n",
       "  </thead>\n",
       "  <tbody>\n",
       "    <tr>\n",
       "      <th>0</th>\n",
       "      <td>71.641</td>\n",
       "      <td>27.046</td>\n",
       "      <td>76.576</td>\n",
       "      <td>0.306</td>\n",
       "      <td>-0.000</td>\n",
       "      <td>3.123</td>\n",
       "      <td>3.123</td>\n",
       "      <td>NaN</td>\n",
       "    </tr>\n",
       "    <tr>\n",
       "      <th>1</th>\n",
       "      <td>30.704</td>\n",
       "      <td>1.030</td>\n",
       "      <td>30.721</td>\n",
       "      <td>0.123</td>\n",
       "      <td>0.166</td>\n",
       "      <td>-15.513</td>\n",
       "      <td>15.514</td>\n",
       "      <td>NaN</td>\n",
       "    </tr>\n",
       "    <tr>\n",
       "      <th>2</th>\n",
       "      <td>-59.463</td>\n",
       "      <td>13.457</td>\n",
       "      <td>60.966</td>\n",
       "      <td>0.406</td>\n",
       "      <td>1.354</td>\n",
       "      <td>-31.531</td>\n",
       "      <td>31.561</td>\n",
       "      <td>NaN</td>\n",
       "    </tr>\n",
       "    <tr>\n",
       "      <th>3</th>\n",
       "      <td>85.000</td>\n",
       "      <td>10.860</td>\n",
       "      <td>85.691</td>\n",
       "      <td>0.286</td>\n",
       "      <td>0.000</td>\n",
       "      <td>4.096</td>\n",
       "      <td>4.096</td>\n",
       "      <td>NaN</td>\n",
       "    </tr>\n",
       "    <tr>\n",
       "      <th>4</th>\n",
       "      <td>24.183</td>\n",
       "      <td>3.119</td>\n",
       "      <td>24.384</td>\n",
       "      <td>0.163</td>\n",
       "      <td>0.088</td>\n",
       "      <td>-21.176</td>\n",
       "      <td>21.176</td>\n",
       "      <td>NaN</td>\n",
       "    </tr>\n",
       "    <tr>\n",
       "      <th>5</th>\n",
       "      <td>-75.905</td>\n",
       "      <td>10.704</td>\n",
       "      <td>76.656</td>\n",
       "      <td>0.307</td>\n",
       "      <td>0.475</td>\n",
       "      <td>-11.502</td>\n",
       "      <td>11.511</td>\n",
       "      <td>NaN</td>\n",
       "    </tr>\n",
       "    <tr>\n",
       "      <th>6</th>\n",
       "      <td>-163.000</td>\n",
       "      <td>9.178</td>\n",
       "      <td>163.258</td>\n",
       "      <td>0.653</td>\n",
       "      <td>0.000</td>\n",
       "      <td>15.832</td>\n",
       "      <td>15.832</td>\n",
       "      <td>NaN</td>\n",
       "    </tr>\n",
       "    <tr>\n",
       "      <th>7</th>\n",
       "      <td>86.620</td>\n",
       "      <td>8.381</td>\n",
       "      <td>87.025</td>\n",
       "      <td>0.348</td>\n",
       "      <td>2.300</td>\n",
       "      <td>-19.694</td>\n",
       "      <td>19.827</td>\n",
       "      <td>NaN</td>\n",
       "    </tr>\n",
       "    <tr>\n",
       "      <th>8</th>\n",
       "      <td>-40.680</td>\n",
       "      <td>38.687</td>\n",
       "      <td>56.139</td>\n",
       "      <td>0.225</td>\n",
       "      <td>0.258</td>\n",
       "      <td>-15.794</td>\n",
       "      <td>15.796</td>\n",
       "      <td>NaN</td>\n",
       "    </tr>\n",
       "  </tbody>\n",
       "</table>\n",
       "</div>"
      ],
      "text/plain": [
       "   Real power (MW)  Imag power (MVAr)  Power module (MVA)  Loading(%)  Losses (MW)  Losses (MVAr)  Losses (MVA)  Tap module\n",
       "0           71.641             27.046              76.576       0.306       -0.000          3.123         3.123         NaN\n",
       "1           30.704              1.030              30.721       0.123        0.166        -15.513        15.514         NaN\n",
       "2          -59.463             13.457              60.966       0.406        1.354        -31.531        31.561         NaN\n",
       "3           85.000             10.860              85.691       0.286        0.000          4.096         4.096         NaN\n",
       "4           24.183              3.119              24.384       0.163        0.088        -21.176        21.176         NaN\n",
       "5          -75.905             10.704              76.656       0.307        0.475        -11.502        11.511         NaN\n",
       "6         -163.000              9.178             163.258       0.653        0.000         15.832        15.832         NaN\n",
       "7           86.620              8.381              87.025       0.348        2.300        -19.694        19.827         NaN\n",
       "8          -40.680             38.687              56.139       0.225        0.258        -15.794        15.796         NaN"
      ]
     },
     "execution_count": 10,
     "metadata": {},
     "output_type": "execute_result"
    }
   ],
   "source": [
    "df_bus, df_branch = power_flow.results.export_all()\n",
    "df_branch['Imag power (MVAr)'] = abs(df_branch['Imag power (MVAr)'])\n",
    "df_branch"
   ]
  },
  {
   "cell_type": "code",
   "execution_count": 11,
   "metadata": {},
   "outputs": [],
   "source": [
    "def round_power_close_to_zero(power):\n",
    "    real_power = np.real(power)\n",
    "    real_power[np.isclose(real_power,0,atol=1e-06)] = 0\n",
    "\n",
    "    imag_power = np.imag(power)\n",
    "    imag_power[np.isclose(imag_power,0,atol=1e-06)] = 0\n",
    "\n",
    "    return real_power, imag_power"
   ]
  },
  {
   "cell_type": "code",
   "execution_count": 12,
   "metadata": {},
   "outputs": [
    {
     "data": {
      "text/html": [
       "<div>\n",
       "<style scoped>\n",
       "    .dataframe tbody tr th:only-of-type {\n",
       "        vertical-align: middle;\n",
       "    }\n",
       "\n",
       "    .dataframe tbody tr th {\n",
       "        vertical-align: top;\n",
       "    }\n",
       "\n",
       "    .dataframe thead th {\n",
       "        text-align: right;\n",
       "    }\n",
       "</style>\n",
       "<table border=\"1\" class=\"dataframe\">\n",
       "  <thead>\n",
       "    <tr style=\"text-align: right;\">\n",
       "      <th></th>\n",
       "      <th>Real voltage (p.u.)</th>\n",
       "      <th>Imag Voltage (p.u.)</th>\n",
       "      <th>Voltage module (p.u.)</th>\n",
       "      <th>Voltage angle (rad)</th>\n",
       "      <th>Real power (MW)</th>\n",
       "      <th>Imag power (MVAr)</th>\n",
       "    </tr>\n",
       "  </thead>\n",
       "  <tbody>\n",
       "    <tr>\n",
       "      <th>0</th>\n",
       "      <td>1.040</td>\n",
       "      <td>0.000</td>\n",
       "      <td>1.040</td>\n",
       "      <td>0.000</td>\n",
       "      <td>71.641</td>\n",
       "      <td>27.046</td>\n",
       "    </tr>\n",
       "    <tr>\n",
       "      <th>1</th>\n",
       "      <td>1.012</td>\n",
       "      <td>0.165</td>\n",
       "      <td>1.025</td>\n",
       "      <td>0.162</td>\n",
       "      <td>163.000</td>\n",
       "      <td>6.654</td>\n",
       "    </tr>\n",
       "    <tr>\n",
       "      <th>2</th>\n",
       "      <td>1.022</td>\n",
       "      <td>0.083</td>\n",
       "      <td>1.025</td>\n",
       "      <td>0.081</td>\n",
       "      <td>85.000</td>\n",
       "      <td>-10.860</td>\n",
       "    </tr>\n",
       "    <tr>\n",
       "      <th>3</th>\n",
       "      <td>1.025</td>\n",
       "      <td>-0.040</td>\n",
       "      <td>1.026</td>\n",
       "      <td>-0.039</td>\n",
       "      <td>-0.000</td>\n",
       "      <td>0.000</td>\n",
       "    </tr>\n",
       "    <tr>\n",
       "      <th>4</th>\n",
       "      <td>1.011</td>\n",
       "      <td>-0.065</td>\n",
       "      <td>1.013</td>\n",
       "      <td>-0.064</td>\n",
       "      <td>-90.000</td>\n",
       "      <td>-30.000</td>\n",
       "    </tr>\n",
       "    <tr>\n",
       "      <th>5</th>\n",
       "      <td>1.032</td>\n",
       "      <td>0.035</td>\n",
       "      <td>1.032</td>\n",
       "      <td>0.034</td>\n",
       "      <td>0.000</td>\n",
       "      <td>0.000</td>\n",
       "    </tr>\n",
       "    <tr>\n",
       "      <th>6</th>\n",
       "      <td>1.016</td>\n",
       "      <td>0.013</td>\n",
       "      <td>1.016</td>\n",
       "      <td>0.013</td>\n",
       "      <td>-100.000</td>\n",
       "      <td>-35.000</td>\n",
       "    </tr>\n",
       "    <tr>\n",
       "      <th>7</th>\n",
       "      <td>1.024</td>\n",
       "      <td>0.067</td>\n",
       "      <td>1.026</td>\n",
       "      <td>0.065</td>\n",
       "      <td>0.000</td>\n",
       "      <td>0.000</td>\n",
       "    </tr>\n",
       "    <tr>\n",
       "      <th>8</th>\n",
       "      <td>0.993</td>\n",
       "      <td>-0.069</td>\n",
       "      <td>0.996</td>\n",
       "      <td>-0.070</td>\n",
       "      <td>-125.000</td>\n",
       "      <td>-50.000</td>\n",
       "    </tr>\n",
       "  </tbody>\n",
       "</table>\n",
       "</div>"
      ],
      "text/plain": [
       "   Real voltage (p.u.)  Imag Voltage (p.u.)  Voltage module (p.u.)  Voltage angle (rad)  Real power (MW)  Imag power (MVAr)\n",
       "0                1.040                0.000                  1.040                0.000           71.641             27.046\n",
       "1                1.012                0.165                  1.025                0.162          163.000              6.654\n",
       "2                1.022                0.083                  1.025                0.081           85.000            -10.860\n",
       "3                1.025               -0.040                  1.026               -0.039           -0.000              0.000\n",
       "4                1.011               -0.065                  1.013               -0.064          -90.000            -30.000\n",
       "5                1.032                0.035                  1.032                0.034            0.000              0.000\n",
       "6                1.016                0.013                  1.016                0.013         -100.000            -35.000\n",
       "7                1.024                0.067                  1.026                0.065            0.000              0.000\n",
       "8                0.993               -0.069                  0.996               -0.070         -125.000            -50.000"
      ]
     },
     "execution_count": 12,
     "metadata": {},
     "output_type": "execute_result"
    }
   ],
   "source": [
    "df_bus['Real power (MW)'], df_bus['Imag power (MVAr)'] = round_power_close_to_zero(power_flow.results.Sbus)\n",
    "df_bus\n"
   ]
  },
  {
   "cell_type": "markdown",
   "metadata": {},
   "source": [
    "## Comparison with MATPOWER result"
   ]
  },
  {
   "cell_type": "code",
   "execution_count": 13,
   "metadata": {},
   "outputs": [],
   "source": [
    "from matpower import start_instance"
   ]
  },
  {
   "cell_type": "code",
   "execution_count": 14,
   "metadata": {},
   "outputs": [
    {
     "name": "stdout",
     "output_type": "stream",
     "text": [
      "OSQP Error!\n",
      "\n",
      "MATPOWER Version 7.1, 08-Oct-2020 -- AC Power Flow (Newton)\n",
      "\n",
      "Newton's method power flow (power balance, polar) converged in 4 iterations.\n",
      "\n",
      "Converged in 0.26 seconds\n",
      "================================================================================\n",
      "|     Branch Data                                                              |\n",
      "================================================================================\n",
      "Brnch   From   To    From Bus Injection   To Bus Injection     Loss (I^2 * Z)\n",
      "  #     Bus    Bus    P (MW)   Q (MVAr)   P (MW)   Q (MVAr)   P (MW)   Q (MVAr)\n",
      "-----  -----  -----  --------  --------  --------  --------  --------  --------\n",
      "   1      1      4     71.64     27.05    -71.64    -23.92     0.000      3.12\n",
      "   2      4      5     30.70      1.03    -30.54    -16.54     0.166      0.90\n",
      "   3      5      6    -59.46    -13.46     60.82    -18.07     1.354      5.90\n",
      "   4      3      6     85.00    -10.86    -85.00     14.96     0.000      4.10\n",
      "   5      6      7     24.18      3.12    -24.10    -24.30     0.088      0.75\n",
      "   6      7      8    -75.90    -10.70     76.38     -0.80     0.475      4.03\n",
      "   7      8      2   -163.00      9.18    163.00      6.65    -0.000     15.83\n",
      "   8      8      9     86.62     -8.38    -84.32    -11.31     2.300     11.57\n",
      "   9      9      4    -40.68    -38.69     40.94     22.89     0.258      2.19\n",
      "                                                             --------  --------\n",
      "                                                    Total:     4.641     48.38\n"
     ]
    }
   ],
   "source": [
    "m = start_instance()\n",
    "mpopt = m.mpoption('verbose', 1, 'out.sys_sum', 0, 'out.bus', 0)\n",
    "mpc = m.eval('case9', verbose=False)\n",
    "mpc = m.runpf(mpc, mpopt)"
   ]
  },
  {
   "cell_type": "code",
   "execution_count": null,
   "metadata": {},
   "outputs": [],
   "source": []
  }
 ],
 "metadata": {
  "interpreter": {
   "hash": "c539bf52739056728523ce4846b8571647250a403fa0a07ad5abaf30b2362796"
  },
  "kernelspec": {
   "display_name": "Python 3.7.4 64-bit",
   "language": "python",
   "name": "python3"
  },
  "language_info": {
   "codemirror_mode": {
    "name": "ipython",
    "version": 3
   },
   "file_extension": ".py",
   "mimetype": "text/x-python",
   "name": "python",
   "nbconvert_exporter": "python",
   "pygments_lexer": "ipython3",
   "version": "3.7.4"
  },
  "orig_nbformat": 4
 },
 "nbformat": 4,
 "nbformat_minor": 2
}
